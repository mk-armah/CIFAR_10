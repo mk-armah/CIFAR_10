{
  "cells": [
    {
      "cell_type": "markdown",
      "metadata": {
        "id": "view-in-github",
        "colab_type": "text"
      },
      "source": [
        "<a href=\"https://colab.research.google.com/github/mk-armah/testgit/blob/master/CIFAR10_dataset_nn.ipynb\" target=\"_parent\"><img src=\"https://colab.research.google.com/assets/colab-badge.svg\" alt=\"Open In Colab\"/></a>"
      ]
    },
    {
      "cell_type": "code",
      "execution_count": null,
      "metadata": {
        "id": "9xtCYQZPOVAm"
      },
      "outputs": [],
      "source": [
        "import torch\n",
        "import torchvision\n",
        "import torch.utils.data\n",
        "import torchvision.transforms as transforms\n",
        "import numpy as np\n",
        "import pandas as pd\n",
        "import cv2\n",
        "import matplotlib.pyplot as plt\n",
        "import torch.nn as nn\n",
        "from tqdm import tqdm"
      ]
    },
    {
      "cell_type": "code",
      "execution_count": null,
      "metadata": {
        "id": "f8g7-2D596Dg"
      },
      "outputs": [],
      "source": [
        "transform = transforms.Compose([transforms.Resize((32,32)),\n",
        "                                transforms.ToTensor(),\n",
        "                                transforms.Normalize((0.4914,0.4822,0.4465),(0.2021,0.1994,0.2010)),\n",
        "                                transforms.RandomHorizontalFlip()])"
      ]
    },
    {
      "cell_type": "code",
      "execution_count": null,
      "metadata": {
        "id": "d0hl04WS1Je9"
      },
      "outputs": [],
      "source": [
        ""
      ]
    },
    {
      "cell_type": "code",
      "execution_count": null,
      "metadata": {
        "colab": {
          "base_uri": "https://localhost:8080/"
        },
        "id": "iieEiXH-CSVG",
        "outputId": "e8d4ce6f-4a63-48c3-9f47-307e3fe1314a"
      },
      "outputs": [
        {
          "output_type": "stream",
          "name": "stdout",
          "text": [
            "Files already downloaded and verified\n",
            "Files already downloaded and verified\n"
          ]
        }
      ],
      "source": [
        "\n",
        "train_data = torchvision.datasets.CIFAR10(root = './data',train = True,download= True,transform=transform)\n",
        "test_data = torchvision.datasets.CIFAR10(root = './data',train = False,download = True,transform = transform)"
      ]
    },
    {
      "cell_type": "code",
      "execution_count": null,
      "metadata": {
        "colab": {
          "base_uri": "https://localhost:8080/"
        },
        "id": "Yd8ZD1SCDPS7",
        "outputId": "70209e10-749d-45d8-dc02-7646d0443c0c"
      },
      "outputs": [
        {
          "output_type": "execute_result",
          "data": {
            "text/plain": [
              "50000"
            ]
          },
          "metadata": {},
          "execution_count": 27
        }
      ],
      "source": [
        "len(train_data)"
      ]
    },
    {
      "cell_type": "code",
      "execution_count": null,
      "metadata": {
        "colab": {
          "base_uri": "https://localhost:8080/"
        },
        "id": "rBGOtif3FlKd",
        "outputId": "8a310fd3-b79b-4381-dd68-dbafe91ae0c9"
      },
      "outputs": [
        {
          "output_type": "stream",
          "name": "stdout",
          "text": [
            "classes >>>  ['airplane', 'automobile', 'bird', 'cat', 'deer', 'dog', 'frog', 'horse', 'ship', 'truck']\n"
          ]
        }
      ],
      "source": [
        "print(\"classes >>> \",train_data.classes)"
      ]
    },
    {
      "cell_type": "code",
      "execution_count": null,
      "metadata": {
        "id": "BygLjMBXxETa"
      },
      "outputs": [],
      "source": [
        "idx = np.arange(50000)\n",
        "np.random.shuffle(idx)"
      ]
    },
    {
      "cell_type": "code",
      "execution_count": null,
      "metadata": {
        "id": "wEiQtZHK2q_-"
      },
      "outputs": [],
      "source": [
        "train_loader = torch.utils.data.DataLoader(train_data,batch_size=64,shuffle = False,sampler=torch.utils.data.SubsetRandomSampler(idx[0:40000]))\n",
        "val_loader = torch.utils.data.DataLoader(train_data,batch_size = 64,shuffle =False,sampler = torch.utils.data.SubsetRandomSampler(idx[40000:50000]))\n",
        "test_loader = torch.utils.data.DataLoader(test_data,batch_size = 64,shuffle = True)"
      ]
    },
    {
      "cell_type": "code",
      "execution_count": null,
      "metadata": {
        "colab": {
          "base_uri": "https://localhost:8080/"
        },
        "id": "5DMcfVgzC-a6",
        "outputId": "fbefb428-7ae3-425f-d46f-e2d0ea6b8c87"
      },
      "outputs": [
        {
          "output_type": "stream",
          "name": "stdout",
          "text": [
            "shape of training data :::  (50000, 32, 32, 3)\n",
            "shape of testing data :::  (10000, 32, 32, 3)\n"
          ]
        }
      ],
      "source": [
        "print('shape of training data ::: ',train_data.data.shape)\n",
        "print(\"shape of testing data ::: \",test_data.data.shape)"
      ]
    },
    {
      "cell_type": "code",
      "execution_count": null,
      "metadata": {
        "colab": {
          "base_uri": "https://localhost:8080/",
          "height": 285
        },
        "id": "ER-azWmh8qnP",
        "outputId": "16f0ead1-4346-4094-9a5d-e3b8e59260d5"
      },
      "outputs": [
        {
          "output_type": "stream",
          "name": "stderr",
          "text": [
            "100%|██████████| 12/12 [00:00<00:00, 54.47it/s]\n"
          ]
        },
        {
          "output_type": "display_data",
          "data": {
            "image/png": "[encoded data removed]",
            "text/plain": [
              "<Figure size 432x288 with 12 Axes>"
            ]
          },
          "metadata": {
            "needs_background": "light"
          }
        }
      ],
      "source": [
        "for i in tqdm(range(12)):\n",
        "  plt.subplot(3,4,i+1)\n",
        "  plt.imshow(train_loader.dataset.data[i])"
      ]
    },
    {
      "cell_type": "code",
      "execution_count": null,
      "metadata": {
        "colab": {
          "base_uri": "https://localhost:8080/"
        },
        "id": "F0qCsiCNG3CJ",
        "outputId": "d537feed-0e75-45d5-f7bd-aa81a84797cc"
      },
      "outputs": [
        {
          "output_type": "stream",
          "name": "stdout",
          "text": [
            "cuda\n",
            "0\n",
            "Tesla K80\n",
            "1.10.0+cu111\n",
            "11.1\n"
          ]
        }
      ],
      "source": [
        "device = 'cuda' if torch.cuda.is_available() else 'cpu'\n",
        "print(device)\n",
        "print(torch.cuda.current_device())\n",
        "print(torch.cuda.get_device_name(0))\n",
        "\n",
        "print(torch.__version__)\n",
        "print(torch.version.cuda)"
      ]
    },
    {
      "cell_type": "code",
      "execution_count": null,
      "metadata": {
        "id": "H3KR8HVu8rxm"
      },
      "outputs": [],
      "source": [
        "class CustomNet(nn.Module):\n",
        "  def __init__(self):\n",
        "    super(CustomNet,self).__init__()\n",
        "    self.conv2d = nn.Sequential(torch.nn.Conv2d(in_channels=3,out_channels = 8,kernel_size=3,stride = 1,padding = 1),\n",
        "                                nn.ReLU(inplace = True),\n",
        "                                torch.nn.MaxPool2d(kernel_size = 2,stride = 2),\n",
        "                                torch.nn.BatchNorm2d(8),\n",
        "                                torch.nn.Conv2d(in_channels=8,out_channels=16,kernel_size=5,stride = 1,padding = 2),\n",
        "                                nn.ReLU(inplace = True),\n",
        "                                torch.nn.MaxPool2d(kernel_size = 2,stride = 2),\n",
        "                                torch.nn.BatchNorm2d(16),\n",
        "                                torch.nn.Conv2d(in_channels=16,out_channels = 32,kernel_size = 5,stride = 1,padding = 1),\n",
        "                                torch.nn.ReLU(inplace = True),\n",
        "                                torch.nn.MaxPool2d(kernel_size = 2,stride = 1))\n",
        "    \n",
        "    self.Flatten = nn.Flatten()\n",
        "\n",
        "    self.fc_layers = nn.Sequential(torch.nn.Dropout2d(p=0.20),\n",
        "                                  nn.Linear(800,500),\n",
        "                                  nn.ReLU(inplace=True),\n",
        "                                  nn.Linear(500,700),\n",
        "                                  nn.Dropout2d(p = 0.30),\n",
        "                                  nn.ReLU(inplace = True),\n",
        "                                  nn.Linear(700,300),\n",
        "                                  nn.ReLU(inplace = True),\n",
        "                                  nn.Linear(300,150),\n",
        "                                  nn.Dropout(p = 0.20),\n",
        "                                  nn.ReLU(inplace = True),\n",
        "                                  nn.Linear(150,10))\n",
        "    \n",
        "  def forward(self,image):\n",
        "    image = self.conv2d(image)\n",
        "    image = self.Flatten(image)\n",
        "    image = self.fc_layers(image)\n",
        "\n",
        "    return image\n",
        "\n",
        "    "
      ]
    },
    {
      "cell_type": "code",
      "execution_count": null,
      "metadata": {
        "colab": {
          "base_uri": "https://localhost:8080/"
        },
        "id": "sMVcYWMwHDvH",
        "outputId": "1ff618b0-bea7-4fd8-8943-ed3c89006d8b"
      },
      "outputs": [
        {
          "output_type": "execute_result",
          "data": {
            "text/plain": [
              "288"
            ]
          },
          "metadata": {},
          "execution_count": 35
        }
      ],
      "source": [
        "# def size_calculator(i,f,p,s):\n",
        "#   return ((((i-f)+2*p)/s)+1)\n",
        "\n",
        "# size_calculator(8,5,1,1)\n",
        "\n",
        "32*3*3"
      ]
    },
    {
      "cell_type": "code",
      "execution_count": null,
      "metadata": {
        "id": "QhvPgx7HV4es"
      },
      "outputs": [],
      "source": [
        "model = CustomNet().to(device)\n",
        "loss_fn =nn.CrossEntropyLoss()\n",
        "optimizer = torch.optim.SGD(params = model.parameters(),lr = 0.1)"
      ]
    },
    {
      "cell_type": "code",
      "execution_count": null,
      "metadata": {
        "id": "fKDmiSZMXv7A"
      },
      "outputs": [],
      "source": [
        ""
      ]
    },
    {
      "cell_type": "code",
      "execution_count": null,
      "metadata": {
        "id": "KTRdsh40WDNJ"
      },
      "outputs": [],
      "source": [
        "def training(model,dataloader,optimizer,loss_fn):\n",
        "  model.train()\n",
        "  num_batches = len(dataloader)\n",
        "  data_size = len(dataloader.dataset)\n",
        "\n",
        "  training_accuracy,training_loss = 0,0\n",
        "  for batch,(images,labels) in enumerate(dataloader):\n",
        "    images,labels = images.to(device),labels.to(device)\n",
        "    \n",
        "    #forward \n",
        "    y_pred = model(images)\n",
        "\n",
        "    #compute the loss\n",
        "    loss = loss_fn(y_pred,labels)\n",
        "\n",
        "    #empty the gradients by setting them to zero\n",
        "    optimizer.zero_grad()\n",
        "\n",
        "    #back propagation\n",
        "    loss.backward()\n",
        "\n",
        "    #update the weights\n",
        "    optimizer.step()\n",
        "\n",
        "    acc = (y_pred.argmax(1)==labels).sum().type(torch.FloatTensor).item()\n",
        "    training_accuracy+=acc\n",
        "\n",
        "  training_accuracy/= data_size \n",
        "  print(\"Training Accuracy >>> \",training_accuracy)"
      ]
    },
    {
      "cell_type": "code",
      "execution_count": null,
      "metadata": {
        "id": "-_DUuUk5fPfb"
      },
      "outputs": [],
      "source": [
        "def testing_validation(model,dataloader,loss_fn):\n",
        "  data_size = len(dataloader.dataset)\n",
        "  num_batches = len(dataloader)\n",
        "  testing_loss,testing_accuracy = 0,0\n",
        "  with torch.no_grad():\n",
        "    for images,labels in dataloader:\n",
        "      images,labels = images.to(device),labels.to(device)\n",
        "\n",
        "      y_pred = model(images)\n",
        "\n",
        "      loss = loss_fn(y_pred,labels)\n",
        "      acc = (y_pred.argmax(1)==labels).sum().type(torch.FloatTensor).item()\n",
        "      \n",
        "      testing_accuracy += acc\n",
        "      testing_loss += loss\n",
        "\n",
        "    testing_accuracy /= data_size\n",
        "    testing_loss/= num_batches\n",
        "\n",
        "    print(\"Testing Accuracy >>> \",testing_accuracy,\"  <::::::> \", \"Average Loss >>> \", testing_loss.item(),\"\\n\")"
      ]
    },
    {
      "cell_type": "code",
      "execution_count": null,
      "metadata": {
        "colab": {
          "base_uri": "https://localhost:8080/"
        },
        "id": "qbgv1O5V4Zt_",
        "outputId": "c6f6676c-6354-48a9-f73a-631d1ac896b6"
      },
      "outputs": [
        {
          "output_type": "stream",
          "name": "stderr",
          "text": [
            "\r  0%|          | 0/20 [00:00<?, ?it/s]"
          ]
        },
        {
          "output_type": "stream",
          "name": "stdout",
          "text": [
            "Training Accuracy >>>  0.65382\n"
          ]
        },
        {
          "output_type": "stream",
          "name": "stderr",
          "text": [
            "\r  5%|▌         | 1/20 [00:27<08:50, 27.90s/it]"
          ]
        },
        {
          "output_type": "stream",
          "name": "stdout",
          "text": [
            "Testing Accuracy >>>  0.7372\n",
            "Average Loss >>>  0.8274165987968445 \n",
            "\n",
            "Training Accuracy >>>  0.65706\n"
          ]
        },
        {
          "output_type": "stream",
          "name": "stderr",
          "text": [
            "\r 10%|█         | 2/20 [00:55<08:22, 27.89s/it]"
          ]
        },
        {
          "output_type": "stream",
          "name": "stdout",
          "text": [
            "Testing Accuracy >>>  0.7358\n",
            "Average Loss >>>  0.8184207081794739 \n",
            "\n",
            "Training Accuracy >>>  0.66018\n"
          ]
        },
        {
          "output_type": "stream",
          "name": "stderr",
          "text": [
            "\r 15%|█▌        | 3/20 [01:23<07:52, 27.80s/it]"
          ]
        },
        {
          "output_type": "stream",
          "name": "stdout",
          "text": [
            "Testing Accuracy >>>  0.7332\n",
            "Average Loss >>>  0.8180917501449585 \n",
            "\n",
            "Training Accuracy >>>  0.66574\n"
          ]
        },
        {
          "output_type": "stream",
          "name": "stderr",
          "text": [
            "\r 20%|██        | 4/20 [01:51<07:27, 27.97s/it]"
          ]
        },
        {
          "output_type": "stream",
          "name": "stdout",
          "text": [
            "Testing Accuracy >>>  0.7339\n",
            "Average Loss >>>  0.8305050134658813 \n",
            "\n",
            "Training Accuracy >>>  0.66668\n"
          ]
        },
        {
          "output_type": "stream",
          "name": "stderr",
          "text": [
            "\r 25%|██▌       | 5/20 [02:19<06:57, 27.86s/it]"
          ]
        },
        {
          "output_type": "stream",
          "name": "stdout",
          "text": [
            "Testing Accuracy >>>  0.7236\n",
            "Average Loss >>>  0.9019883275032043 \n",
            "\n",
            "Training Accuracy >>>  0.67132\n"
          ]
        },
        {
          "output_type": "stream",
          "name": "stderr",
          "text": [
            "\r 30%|███       | 6/20 [02:47<06:29, 27.82s/it]"
          ]
        },
        {
          "output_type": "stream",
          "name": "stdout",
          "text": [
            "Testing Accuracy >>>  0.7362\n",
            "Average Loss >>>  0.8715913891792297 \n",
            "\n",
            "Training Accuracy >>>  0.67558\n"
          ]
        },
        {
          "output_type": "stream",
          "name": "stderr",
          "text": [
            "\r 35%|███▌      | 7/20 [03:14<06:01, 27.80s/it]"
          ]
        },
        {
          "output_type": "stream",
          "name": "stdout",
          "text": [
            "Testing Accuracy >>>  0.7365\n",
            "Average Loss >>>  0.8358587026596069 \n",
            "\n",
            "Training Accuracy >>>  0.68002\n"
          ]
        },
        {
          "output_type": "stream",
          "name": "stderr",
          "text": [
            "\r 40%|████      | 8/20 [03:42<05:33, 27.79s/it]"
          ]
        },
        {
          "output_type": "stream",
          "name": "stdout",
          "text": [
            "Testing Accuracy >>>  0.7437\n",
            "Average Loss >>>  0.8471236824989319 \n",
            "\n",
            "Training Accuracy >>>  0.68174\n"
          ]
        },
        {
          "output_type": "stream",
          "name": "stderr",
          "text": [
            "\r 45%|████▌     | 9/20 [04:10<05:05, 27.79s/it]"
          ]
        },
        {
          "output_type": "stream",
          "name": "stdout",
          "text": [
            "Testing Accuracy >>>  0.7424\n",
            "Average Loss >>>  0.8589816689491272 \n",
            "\n",
            "Training Accuracy >>>  0.68404\n"
          ]
        },
        {
          "output_type": "stream",
          "name": "stderr",
          "text": [
            "\r 50%|█████     | 10/20 [04:38<04:37, 27.73s/it]"
          ]
        },
        {
          "output_type": "stream",
          "name": "stdout",
          "text": [
            "Testing Accuracy >>>  0.7347\n",
            "Average Loss >>>  0.8579019904136658 \n",
            "\n",
            "Training Accuracy >>>  0.6868\n"
          ]
        },
        {
          "output_type": "stream",
          "name": "stderr",
          "text": [
            "\r 55%|█████▌    | 11/20 [05:05<04:09, 27.74s/it]"
          ]
        },
        {
          "output_type": "stream",
          "name": "stdout",
          "text": [
            "Testing Accuracy >>>  0.7367\n",
            "Average Loss >>>  0.892937183380127 \n",
            "\n",
            "Training Accuracy >>>  0.68918\n"
          ]
        },
        {
          "output_type": "stream",
          "name": "stderr",
          "text": [
            "\r 60%|██████    | 12/20 [05:33<03:41, 27.74s/it]"
          ]
        },
        {
          "output_type": "stream",
          "name": "stdout",
          "text": [
            "Testing Accuracy >>>  0.7398\n",
            "Average Loss >>>  0.878787100315094 \n",
            "\n",
            "Training Accuracy >>>  0.6919\n"
          ]
        },
        {
          "output_type": "stream",
          "name": "stderr",
          "text": [
            "\r 65%|██████▌   | 13/20 [06:01<03:14, 27.73s/it]"
          ]
        },
        {
          "output_type": "stream",
          "name": "stdout",
          "text": [
            "Testing Accuracy >>>  0.7356\n",
            "Average Loss >>>  0.9294229745864868 \n",
            "\n",
            "Training Accuracy >>>  0.69402\n"
          ]
        },
        {
          "output_type": "stream",
          "name": "stderr",
          "text": [
            "\r 70%|███████   | 14/20 [06:29<02:46, 27.75s/it]"
          ]
        },
        {
          "output_type": "stream",
          "name": "stdout",
          "text": [
            "Testing Accuracy >>>  0.7359\n",
            "Average Loss >>>  0.9339672923088074 \n",
            "\n",
            "Training Accuracy >>>  0.69752\n"
          ]
        },
        {
          "output_type": "stream",
          "name": "stderr",
          "text": [
            "\r 75%|███████▌  | 15/20 [06:56<02:18, 27.70s/it]"
          ]
        },
        {
          "output_type": "stream",
          "name": "stdout",
          "text": [
            "Testing Accuracy >>>  0.728\n",
            "Average Loss >>>  0.944368302822113 \n",
            "\n",
            "Training Accuracy >>>  0.69936\n"
          ]
        },
        {
          "output_type": "stream",
          "name": "stderr",
          "text": [
            "\r 80%|████████  | 16/20 [07:24<01:50, 27.69s/it]"
          ]
        },
        {
          "output_type": "stream",
          "name": "stdout",
          "text": [
            "Testing Accuracy >>>  0.7396\n",
            "Average Loss >>>  0.9266746044158936 \n",
            "\n",
            "Training Accuracy >>>  0.70114\n"
          ]
        },
        {
          "output_type": "stream",
          "name": "stderr",
          "text": [
            "\r 85%|████████▌ | 17/20 [07:51<01:22, 27.67s/it]"
          ]
        },
        {
          "output_type": "stream",
          "name": "stdout",
          "text": [
            "Testing Accuracy >>>  0.7307\n",
            "Average Loss >>>  0.9566169381141663 \n",
            "\n",
            "Training Accuracy >>>  0.70434\n"
          ]
        },
        {
          "output_type": "stream",
          "name": "stderr",
          "text": [
            "\r 90%|█████████ | 18/20 [08:19<00:55, 27.67s/it]"
          ]
        },
        {
          "output_type": "stream",
          "name": "stdout",
          "text": [
            "Testing Accuracy >>>  0.7323\n",
            "Average Loss >>>  0.9445609450340271 \n",
            "\n",
            "Training Accuracy >>>  0.70744\n"
          ]
        },
        {
          "output_type": "stream",
          "name": "stderr",
          "text": [
            "\r 95%|█████████▌| 19/20 [08:47<00:27, 27.68s/it]"
          ]
        },
        {
          "output_type": "stream",
          "name": "stdout",
          "text": [
            "Testing Accuracy >>>  0.7392\n",
            "Average Loss >>>  0.9519181251525879 \n",
            "\n",
            "Training Accuracy >>>  0.70708\n"
          ]
        },
        {
          "output_type": "stream",
          "name": "stderr",
          "text": [
            "100%|██████████| 20/20 [09:14<00:00, 27.74s/it]"
          ]
        },
        {
          "output_type": "stream",
          "name": "stdout",
          "text": [
            "Testing Accuracy >>>  0.7358\n",
            "Average Loss >>>  0.9548050165176392 \n",
            "\n",
            "Epochs Completed\n"
          ]
        },
        {
          "output_type": "stream",
          "name": "stderr",
          "text": [
            "\n"
          ]
        }
      ],
      "source": [
        "num_epochs = 20\n",
        "\n",
        "for epochs in tqdm(range(num_epochs)):\n",
        "  #print(\"Epoch\",epochs+1,\"/\",num_epochs)\n",
        "  training(model,train_loader,optimizer,loss_fn)\n",
        "  testing_validation(model,test_loader,loss_fn)\n",
        "print(\"Epochs Completed\")"
      ]
    },
    {
      "cell_type": "code",
      "execution_count": null,
      "metadata": {
        "id": "-FW5C_nim76J"
      },
      "outputs": [],
      "source": [
        ""
      ]
    }
  ],
  "metadata": {
    "accelerator": "GPU",
    "colab": {
      "name": "CIFAR10 dataset.nn",
      "provenance": [],
      "authorship_tag": "ABX9TyN/jazBem/V7FAzZZYF81T2",
      "include_colab_link": true
    },
    "kernelspec": {
      "display_name": "Python 3",
      "name": "python3"
    },
    "language_info": {
      "name": "python"
    }
  },
  "nbformat": 4,
  "nbformat_minor": 0
}